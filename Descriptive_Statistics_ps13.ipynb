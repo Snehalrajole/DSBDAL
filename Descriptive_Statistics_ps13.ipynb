{
 "cells": [
  {
   "cell_type": "code",
   "execution_count": null,
   "id": "9b8752db-6202-4635-9018-026e6945da5f",
   "metadata": {},
   "outputs": [],
   "source": [
    "#1. Load the MallCustomer dataset in dataframe object df\n",
    "#2. Display summary statistics (mean, median, minimum, maximum, standard deviation) for a dataset for each column\n",
    "#3. Display Measures of Dispersion ( Mean Absolute Deviation, Variance, Standard Deviation, Range, Quartiles, Skewness)\n",
    "#4. if your categorical variable is age groupsa nd quantitative variable is income, then provide summary statistics (minimum and maximum) of income\n",
    "#grouped by the age groups.\n"
   ]
  },
  {
   "cell_type": "code",
   "execution_count": 27,
   "id": "290bf8d1-72fe-4115-83a0-7ad77bb5d9d5",
   "metadata": {},
   "outputs": [
    {
     "data": {
      "text/html": [
       "<div>\n",
       "<style scoped>\n",
       "    .dataframe tbody tr th:only-of-type {\n",
       "        vertical-align: middle;\n",
       "    }\n",
       "\n",
       "    .dataframe tbody tr th {\n",
       "        vertical-align: top;\n",
       "    }\n",
       "\n",
       "    .dataframe thead th {\n",
       "        text-align: right;\n",
       "    }\n",
       "</style>\n",
       "<table border=\"1\" class=\"dataframe\">\n",
       "  <thead>\n",
       "    <tr style=\"text-align: right;\">\n",
       "      <th></th>\n",
       "      <th>CustomerID</th>\n",
       "      <th>Genre</th>\n",
       "      <th>Age</th>\n",
       "      <th>Annual Income (k$)</th>\n",
       "      <th>Spending Score (1-100)</th>\n",
       "    </tr>\n",
       "  </thead>\n",
       "  <tbody>\n",
       "    <tr>\n",
       "      <th>0</th>\n",
       "      <td>1</td>\n",
       "      <td>Male</td>\n",
       "      <td>19</td>\n",
       "      <td>15</td>\n",
       "      <td>39</td>\n",
       "    </tr>\n",
       "    <tr>\n",
       "      <th>1</th>\n",
       "      <td>2</td>\n",
       "      <td>Male</td>\n",
       "      <td>21</td>\n",
       "      <td>15</td>\n",
       "      <td>81</td>\n",
       "    </tr>\n",
       "    <tr>\n",
       "      <th>2</th>\n",
       "      <td>3</td>\n",
       "      <td>Female</td>\n",
       "      <td>20</td>\n",
       "      <td>16</td>\n",
       "      <td>6</td>\n",
       "    </tr>\n",
       "    <tr>\n",
       "      <th>3</th>\n",
       "      <td>4</td>\n",
       "      <td>Female</td>\n",
       "      <td>23</td>\n",
       "      <td>16</td>\n",
       "      <td>77</td>\n",
       "    </tr>\n",
       "    <tr>\n",
       "      <th>4</th>\n",
       "      <td>5</td>\n",
       "      <td>Female</td>\n",
       "      <td>31</td>\n",
       "      <td>17</td>\n",
       "      <td>40</td>\n",
       "    </tr>\n",
       "    <tr>\n",
       "      <th>...</th>\n",
       "      <td>...</td>\n",
       "      <td>...</td>\n",
       "      <td>...</td>\n",
       "      <td>...</td>\n",
       "      <td>...</td>\n",
       "    </tr>\n",
       "    <tr>\n",
       "      <th>195</th>\n",
       "      <td>196</td>\n",
       "      <td>Female</td>\n",
       "      <td>35</td>\n",
       "      <td>120</td>\n",
       "      <td>79</td>\n",
       "    </tr>\n",
       "    <tr>\n",
       "      <th>196</th>\n",
       "      <td>197</td>\n",
       "      <td>Female</td>\n",
       "      <td>45</td>\n",
       "      <td>126</td>\n",
       "      <td>28</td>\n",
       "    </tr>\n",
       "    <tr>\n",
       "      <th>197</th>\n",
       "      <td>198</td>\n",
       "      <td>Male</td>\n",
       "      <td>32</td>\n",
       "      <td>126</td>\n",
       "      <td>74</td>\n",
       "    </tr>\n",
       "    <tr>\n",
       "      <th>198</th>\n",
       "      <td>199</td>\n",
       "      <td>Male</td>\n",
       "      <td>32</td>\n",
       "      <td>137</td>\n",
       "      <td>18</td>\n",
       "    </tr>\n",
       "    <tr>\n",
       "      <th>199</th>\n",
       "      <td>200</td>\n",
       "      <td>Male</td>\n",
       "      <td>30</td>\n",
       "      <td>137</td>\n",
       "      <td>83</td>\n",
       "    </tr>\n",
       "  </tbody>\n",
       "</table>\n",
       "<p>200 rows × 5 columns</p>\n",
       "</div>"
      ],
      "text/plain": [
       "     CustomerID   Genre  Age  Annual Income (k$)  Spending Score (1-100)\n",
       "0             1    Male   19                  15                      39\n",
       "1             2    Male   21                  15                      81\n",
       "2             3  Female   20                  16                       6\n",
       "3             4  Female   23                  16                      77\n",
       "4             5  Female   31                  17                      40\n",
       "..          ...     ...  ...                 ...                     ...\n",
       "195         196  Female   35                 120                      79\n",
       "196         197  Female   45                 126                      28\n",
       "197         198    Male   32                 126                      74\n",
       "198         199    Male   32                 137                      18\n",
       "199         200    Male   30                 137                      83\n",
       "\n",
       "[200 rows x 5 columns]"
      ]
     },
     "execution_count": 27,
     "metadata": {},
     "output_type": "execute_result"
    }
   ],
   "source": [
    "import pandas as pd\n",
    "import numpy as np\n",
    "from scipy.stats import skew\n",
    "\n",
    "# Replace 'MallCustomer.csv' with the path to your dataset file.\n",
    "df = pd.read_csv('Mall_Customers.csv')\n",
    "df\n"
   ]
  },
  {
   "cell_type": "code",
   "execution_count": 2,
   "id": "4dc25876-9417-4438-81a0-eb8254c41273",
   "metadata": {},
   "outputs": [
    {
     "name": "stdout",
     "output_type": "stream",
     "text": [
      "<class 'pandas.core.frame.DataFrame'>\n",
      "RangeIndex: 200 entries, 0 to 199\n",
      "Data columns (total 5 columns):\n",
      " #   Column                  Non-Null Count  Dtype \n",
      "---  ------                  --------------  ----- \n",
      " 0   CustomerID              200 non-null    int64 \n",
      " 1   Genre                   200 non-null    object\n",
      " 2   Age                     200 non-null    int64 \n",
      " 3   Annual Income (k$)      200 non-null    int64 \n",
      " 4   Spending Score (1-100)  200 non-null    int64 \n",
      "dtypes: int64(4), object(1)\n",
      "memory usage: 7.9+ KB\n"
     ]
    }
   ],
   "source": [
    "#print(\"Mean of all columns:\"\n",
    "df.info()"
   ]
  },
  {
   "cell_type": "code",
   "execution_count": 28,
   "id": "59806f45-239a-4248-8f24-47175feaeeb7",
   "metadata": {},
   "outputs": [
    {
     "name": "stdout",
     "output_type": "stream",
     "text": [
      "Mean of numeric columns:\n",
      "CustomerID                100.50\n",
      "Age                        38.85\n",
      "Annual Income (k$)         60.56\n",
      "Spending Score (1-100)     50.20\n",
      "dtype: float64\n"
     ]
    }
   ],
   "source": [
    "#df.mean()\n",
    "numeric_columns = df.select_dtypes(include='number')\n",
    "print(\"Mean of numeric columns:\")\n",
    "print(numeric_columns.mean())"
   ]
  },
  {
   "cell_type": "code",
   "execution_count": 29,
   "id": "65e7de10-567d-4cdf-947d-0b630cc1184f",
   "metadata": {},
   "outputs": [
    {
     "name": "stdout",
     "output_type": "stream",
     "text": [
      "Median of numeric columns:\n",
      "CustomerID                100.5\n",
      "Age                        36.0\n",
      "Annual Income (k$)         61.5\n",
      "Spending Score (1-100)     50.0\n",
      "dtype: float64\n"
     ]
    }
   ],
   "source": [
    "#numeric_columns = df.select_dtypes(include='number')\n",
    "print(\"Median of numeric columns:\")\n",
    "print(numeric_columns.median())"
   ]
  },
  {
   "cell_type": "code",
   "execution_count": 30,
   "id": "63398ff7-36eb-458e-b1e8-4e2f86bc1880",
   "metadata": {},
   "outputs": [
    {
     "name": "stdout",
     "output_type": "stream",
     "text": [
      "Min of numeric columns:\n",
      "CustomerID                 1\n",
      "Age                       18\n",
      "Annual Income (k$)        15\n",
      "Spending Score (1-100)     1\n",
      "dtype: int64\n"
     ]
    }
   ],
   "source": [
    "#numeric_columns = df.select_dtypes(include='number')\n",
    "print(\"Min of numeric columns:\")\n",
    "print(numeric_columns.min())"
   ]
  },
  {
   "cell_type": "code",
   "execution_count": 6,
   "id": "ebf8383d-f6e5-48d6-b4d2-381f14f10e75",
   "metadata": {},
   "outputs": [
    {
     "name": "stdout",
     "output_type": "stream",
     "text": [
      "Max of numeric columns:\n",
      "CustomerID                200\n",
      "Age                        70\n",
      "Annual Income (k$)        137\n",
      "Spending Score (1-100)     99\n",
      "dtype: int64\n"
     ]
    }
   ],
   "source": [
    "numeric_columns = df.select_dtypes(include='number')\n",
    "print(\"Max of numeric columns:\")\n",
    "print(numeric_columns.max())"
   ]
  },
  {
   "cell_type": "code",
   "execution_count": 7,
   "id": "e879d323-ab0e-4e26-b2e5-f62a47cf0398",
   "metadata": {},
   "outputs": [
    {
     "name": "stdout",
     "output_type": "stream",
     "text": [
      "Standar Deviation of numeric columns:\n",
      "CustomerID                57.879185\n",
      "Age                       13.969007\n",
      "Annual Income (k$)        26.264721\n",
      "Spending Score (1-100)    25.823522\n",
      "dtype: float64\n"
     ]
    }
   ],
   "source": [
    "numeric_columns = df.select_dtypes(include='number')\n",
    "print(\"Standar Deviation of numeric columns:\")\n",
    "print(numeric_columns.std())"
   ]
  },
  {
   "cell_type": "code",
   "execution_count": 13,
   "id": "89f19906-0be3-4013-8974-6a98f3dd19de",
   "metadata": {},
   "outputs": [
    {
     "name": "stdout",
     "output_type": "stream",
     "text": [
      "Mean Absolute Deviation:\n",
      "CustomerID                50.0000\n",
      "Age                       11.6605\n",
      "Annual Income (k$)        21.0088\n",
      "Spending Score (1-100)    20.8260\n",
      "dtype: float64\n"
     ]
    }
   ],
   "source": [
    "# Calculate Mean Absolute Deviation manually for numeric columns\n",
    "mad_values = numeric_df.apply(lambda col: (col - col.mean()).abs().mean())\n",
    "print(\"Mean Absolute Deviation:\")\n",
    "print(mad_values)\n"
   ]
  },
  {
   "cell_type": "code",
   "execution_count": 16,
   "id": "3ffae1d0-7e71-4d50-9a74-10fd5b6962b2",
   "metadata": {},
   "outputs": [
    {
     "name": "stdout",
     "output_type": "stream",
     "text": [
      "\n",
      "Variance:\n",
      "CustomerID                3350.000000\n",
      "Age                        195.133166\n",
      "Annual Income (k$)         689.835578\n",
      "Spending Score (1-100)     666.854271\n",
      "dtype: float64\n"
     ]
    }
   ],
   "source": [
    "# Variance\n",
    "numeric_columns = df.select_dtypes(include='number')\n",
    "print(\"\\nVariance:\")\n",
    "print(numeric_columns.var())"
   ]
  },
  {
   "cell_type": "code",
   "execution_count": 17,
   "id": "fd30cca2-1661-4808-b60f-e0a4cd8b7e01",
   "metadata": {},
   "outputs": [
    {
     "name": "stdout",
     "output_type": "stream",
     "text": [
      "\n",
      "Standard Deviation:\n",
      "CustomerID                57.879185\n",
      "Age                       13.969007\n",
      "Annual Income (k$)        26.264721\n",
      "Spending Score (1-100)    25.823522\n",
      "dtype: float64\n"
     ]
    }
   ],
   "source": [
    "# Standard Deviation\n",
    "# Standard Deviation\n",
    "numeric_columns = df.select_dtypes(include='number')\n",
    "print(\"\\nStandard Deviation:\")\n",
    "print(numeric_columns.std())\n"
   ]
  },
  {
   "cell_type": "code",
   "execution_count": 19,
   "id": "67d648b3-7835-449b-a7b0-5706c9edce12",
   "metadata": {},
   "outputs": [
    {
     "name": "stdout",
     "output_type": "stream",
     "text": [
      "\n",
      "Range:\n",
      " CustomerID                199\n",
      "Age                        52\n",
      "Annual Income (k$)        122\n",
      "Spending Score (1-100)     98\n",
      "dtype: int64\n"
     ]
    }
   ],
   "source": [
    "#Range\n",
    "print(\"\\nRange:\\n\",numeric_columns.max()-numeric_columns.min())"
   ]
  },
  {
   "cell_type": "code",
   "execution_count": 20,
   "id": "180f160c-5fd7-4322-b286-18fbf6ac33a6",
   "metadata": {},
   "outputs": [
    {
     "name": "stdout",
     "output_type": "stream",
     "text": [
      "\n",
      "Quartiles:\n",
      "       CustomerID    Age  Annual Income (k$)  Spending Score (1-100)\n",
      "0.25       50.75  28.75                41.5                   34.75\n",
      "0.50      100.50  36.00                61.5                   50.00\n",
      "0.75      150.25  49.00                78.0                   73.00\n"
     ]
    }
   ],
   "source": [
    " #Quartiles\n",
    " print(\"\\nQuartiles:\\n\",numeric_columns.quantile([0.25,0.5, 0.75]))"
   ]
  },
  {
   "cell_type": "code",
   "execution_count": 24,
   "id": "0c704904-ed28-41cd-86fe-0b699d739ba1",
   "metadata": {},
   "outputs": [
    {
     "name": "stdout",
     "output_type": "stream",
     "text": [
      "\n",
      "Skewness:\n",
      " CustomerID                0.000000\n",
      "Age                       0.481919\n",
      "Annual Income (k$)        0.319424\n",
      "Spending Score (1-100)   -0.046865\n",
      "dtype: float64\n"
     ]
    }
   ],
   "source": [
    "#Skewness\n",
    "print(\"\\nSkewness:\\n\",numeric_columns.apply(skew))"
   ]
  },
  {
   "cell_type": "code",
   "execution_count": 26,
   "id": "92bb55e3-b564-4204-809b-891ec2ad64e5",
   "metadata": {},
   "outputs": [
    {
     "name": "stdout",
     "output_type": "stream",
     "text": [
      "\n",
      "Grouped Summary Statistics (Income grouped by Age Group):\n",
      "     min  max\n",
      "Age          \n",
      "18    33   65\n",
      "19    15   81\n",
      "20    16   73\n",
      "21    15   62\n",
      "22    17   57\n",
      "23    16   70\n",
      "24    20   60\n",
      "25    24   77\n",
      "26    54   62\n",
      "27    40   88\n",
      "28    76  101\n",
      "29    28   98\n",
      "30    19  137\n",
      "31    17   81\n",
      "32    48  137\n",
      "33    42  113\n",
      "34    58  103\n",
      "35    18  120\n",
      "36    37  103\n",
      "37    20   97\n",
      "38    54  113\n",
      "39    69   78\n",
      "40    29   87\n",
      "41    99  103\n",
      "42    34   86\n",
      "43    48   78\n",
      "44    73   78\n",
      "45    28  126\n",
      "46    25   98\n",
      "47    43  120\n",
      "48    39   77\n",
      "49    33   65\n",
      "50    40   85\n",
      "51    44   67\n",
      "52    23   88\n",
      "53    33   46\n",
      "54    28  101\n",
      "55    57   57\n",
      "56    79   79\n",
      "57    54   75\n",
      "58    20   88\n",
      "59    43   93\n",
      "60    30   50\n",
      "63    48   65\n",
      "64    19   19\n",
      "65    38   63\n",
      "66    63   63\n",
      "67    19   62\n",
      "68    48   63\n",
      "69    44   44\n",
      "70    46   49\n"
     ]
    }
   ],
   "source": [
    "# Grouped summary statistics for Income by Age Groups\n",
    "grouped_stats = df.groupby('Age')['Annual Income (k$)'].agg(['min', 'max'])\n",
    "print(\"\\nGrouped Summary Statistics (Income grouped by Age Group):\")\n",
    "print(grouped_stats)\n"
   ]
  },
  {
   "cell_type": "code",
   "execution_count": null,
   "id": "067da2ac-38fd-4587-947a-360cd1b7c462",
   "metadata": {},
   "outputs": [],
   "source": []
  }
 ],
 "metadata": {
  "kernelspec": {
   "display_name": "Python 3 (ipykernel)",
   "language": "python",
   "name": "python3"
  },
  "language_info": {
   "codemirror_mode": {
    "name": "ipython",
    "version": 3
   },
   "file_extension": ".py",
   "mimetype": "text/x-python",
   "name": "python",
   "nbconvert_exporter": "python",
   "pygments_lexer": "ipython3",
   "version": "3.11.4"
  }
 },
 "nbformat": 4,
 "nbformat_minor": 5
}
